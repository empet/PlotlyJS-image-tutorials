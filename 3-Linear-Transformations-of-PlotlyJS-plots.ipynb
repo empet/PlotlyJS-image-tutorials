{
 "cells": [
  {
   "cell_type": "markdown",
   "id": "b1a57630",
   "metadata": {},
   "source": [
    "## <center> Linear Transformations of a PlotlyJS figure(plot)</center>"
   ]
  },
  {
   "cell_type": "markdown",
   "id": "9ca9f060",
   "metadata": {},
   "source": [
    "Here we present another context when `PlotlyJS.image` is used. \n",
    "Namely, if  an arbitrary  PlotlyJS plot need to be rotated or transformed by any linear map, \n",
    "then the corresponding plot is converted to a `Matrix{RGBA{N0f8}}` (the default type returned by the function `fig2array`, defined below),\n",
    "and this matrix, to a Base64 string, which is passed as `source` for a PlotlyJS.image."
   ]
  },
  {
   "cell_type": "code",
   "execution_count": null,
   "id": "45ed78fb",
   "metadata": {},
   "outputs": [],
   "source": [
    "using  Rotations, ImageTransformations, CoordinateTransformations,  FileIO, Images\n",
    "using Base64, PlotlyJS\n",
    "\n",
    "function fig2array(fig; width=500, height=500, scale=1 )\n",
    "    #convert a Plotly plot(figure) to  a  Matrix{RGBA{N0f8}}\n",
    "    io = IOBuffer()\n",
    "    savefig(io, fig; width=width, height=height, scale=scale, format=\"png\")\n",
    "    strm = Stream(format\"PNG\", io)\n",
    "    load(strm); \n",
    "end   \n",
    "\n",
    "bs64string(img) = \"data:image/png;base64,$(stringmime(MIME(\"image/png\"), img))\"\n",
    "\n",
    "pl_imshow(img)= Plot(PlotlyJS.image(; source=bs64string(img), hoverinfo=\"none\"))\n",
    "\n",
    "axes_off(fig) = relayout!(fig, xaxis_visible=false, #remove axes \n",
    "                               yaxis_visible=false);\n",
    "\n"
   ]
  },
  {
   "cell_type": "markdown",
   "id": "853cd531",
   "metadata": {},
   "source": [
    "### Heatmap plot rotation"
   ]
  },
  {
   "cell_type": "code",
   "execution_count": null,
   "id": "83ab5986",
   "metadata": {},
   "outputs": [],
   "source": [
    "x= collect(-5:0.075:10)\n",
    "y= collect(-5:0.075:5)\n",
    "z = [(sin(xl)^10 + cos(10+yl*xl) + cos(xl) + 0.2*yl + 0.1 * xl) for yl in y, xl in x];"
   ]
  },
  {
   "cell_type": "code",
   "execution_count": null,
   "id": "658690f7",
   "metadata": {},
   "outputs": [],
   "source": [
    "fig = Plot(heatmap(x= x, \n",
    "                   y= y,\n",
    "                   z= z,\n",
    "                   colorscale=colors.curl, colorbar_thickness=23))\n",
    "relayout!(fig, width=400, height=375)\n",
    "#display(fig)\n",
    "farr = fig2array(fig;)\n",
    "rot = recenter(RotMatrix(pi/4), ImageTransformations.center(farr))\n",
    "#the below conversion, RGB.(farr), is needed because arr=load(strm) is a Matrix{RGBA{N0f8}} \n",
    "#and ImageTransformations works with Matrix{RGB{T}} type matrices\n",
    "imgw = warp(RGB.(farr), rot, fillvalue=1);\n"
   ]
  },
  {
   "cell_type": "markdown",
   "id": "ee71c5ee",
   "metadata": {},
   "source": [
    "Let us create a subplot of two cells to display both the original plot and the rotated one:"
   ]
  },
  {
   "cell_type": "code",
   "execution_count": null,
   "id": "9a23ff7d",
   "metadata": {},
   "outputs": [],
   "source": [
    "figs = make_subplots(rows=1, cols=2, subplot_titles=[\"Initial plot\" \"Rotated plot\"],\n",
    "                     )\n",
    "add_trace!(figs, PlotlyJS.image(; source=bs64string(farr), hoverinfo=\"none\"), row=1, col=1)\n",
    "add_trace!(figs, PlotlyJS.image(; source=bs64string(imgw), hoverinfo=\"none\"), row=1, col=2)\n",
    "relayout!(figs, width=800, height=500, xaxis_visible=false, yaxis_visible=false, \n",
    "          xaxis2_visible=false, yaxis2_visible=false, xaxis_domain=[0, 0.4],\n",
    "    xaxis2_domain=[0.43,1])\n",
    "display(figs)"
   ]
  },
  {
   "cell_type": "markdown",
   "id": "52a929c5",
   "metadata": {},
   "source": [
    "Remark: If the `hoverinfo=\"none\"` is removed from the definition of the two traces,\n",
    "at hover is displayed the colorant, RGB, of the corresponding pixel, not the value mapped to that color. This is the information displayed by default for `PlotlyJS.image` traces."
   ]
  },
  {
   "cell_type": "markdown",
   "id": "abea4f0b",
   "metadata": {},
   "source": [
    "### Heatmap matrix rotation"
   ]
  },
  {
   "cell_type": "markdown",
   "id": "56ce614f",
   "metadata": {},
   "source": [
    "Instead of rotating the entire heatmap plot we can rotate only the matrix  z:"
   ]
  },
  {
   "cell_type": "code",
   "execution_count": null,
   "id": "bfc12594",
   "metadata": {},
   "outputs": [],
   "source": [
    "n = 2^8\n",
    "I = [i for i in 0:n-1, j in 0:n-1]\n",
    "z = xor.(I', I)\n",
    "figh= Plot(heatmap(z=z, colorscale=colors.plasma, colorbar_thickness=23), \n",
    "           Layout(width=450, height=425, font_family=\"Balto\"))\n",
    "display(figh)"
   ]
  },
  {
   "cell_type": "code",
   "execution_count": null,
   "id": "1234d6da",
   "metadata": {},
   "outputs": [],
   "source": [
    "rot = recenter(RotMatrix(-pi/4), ImageTransformations.center(z));\n",
    "zr = warp(z, rot, fillvalue=NaN) \n",
    "\n",
    "fig1 = Plot(heatmap(z=zr, colorscale=colors.plasma,  colorbar_thickness=23,\n",
    "                   hovertemplate=\"z: %{z:d}<extra></extra>\",\n",
    "                   hoverongaps=false), \n",
    "            Layout(width=500, height=500, font_family=\"Balto\",\n",
    "                  yaxis_scaleratio=1, yaxis_scaleanchor=\"x\",\n",
    "                  plot_bgcolor=\"rgba(0,0,0,0)\"))\n",
    "axes_off(fig1)\n",
    "display(fig1)"
   ]
  },
  {
   "cell_type": "markdown",
   "id": "6b31924c",
   "metadata": {},
   "source": [
    "Rotating only the heatmap matrix, z, the corresponding heatmap plot is  still interactive."
   ]
  },
  {
   "cell_type": "code",
   "execution_count": null,
   "id": "af975ca6",
   "metadata": {},
   "outputs": [],
   "source": []
  }
 ],
 "metadata": {
  "@webio": {
   "lastCommId": null,
   "lastKernelId": null
  },
  "kernelspec": {
   "display_name": "Julia 1.8.4",
   "language": "julia",
   "name": "julia-1.8"
  },
  "language_info": {
   "file_extension": ".jl",
   "mimetype": "application/julia",
   "name": "julia",
   "version": "1.8.4"
  }
 },
 "nbformat": 4,
 "nbformat_minor": 5
}
